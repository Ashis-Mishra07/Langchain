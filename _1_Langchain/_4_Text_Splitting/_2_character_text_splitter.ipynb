{
 "cells": [
  {
   "cell_type": "markdown",
   "metadata": {},
   "source": [
    "### Character Text Splitter\n",
    "\n",
    "- This is the simplest method . This splits based on a given character seq . , which defaults to \"\\n\\n\" . Chunk length is measured by number of characters ."
   ]
  },
  {
   "cell_type": "code",
   "execution_count": 1,
   "metadata": {},
   "outputs": [
    {
     "data": {
      "text/plain": [
       "[Document(metadata={'source': 'F:\\\\Complete Generative AI\\\\LANGCHAIN\\\\speech.txt'}, page_content='Hello , I am Ashis Kumar Mishra .\\nI am born and brought up in Odisha .\\nCurrently I am in my pre final year of my Btech from NIT Rourkela .\\nMy habit includes coding , playing football and gaming .\\n\\n')]"
      ]
     },
     "execution_count": 1,
     "metadata": {},
     "output_type": "execute_result"
    }
   ],
   "source": [
    "from langchain_community.document_loaders import TextLoader\n",
    "loader = TextLoader('F:\\Complete Generative AI\\LANGCHAIN\\speech.txt')\n",
    "docs = loader.load()\n",
    "docs "
   ]
  },
  {
   "cell_type": "code",
   "execution_count": null,
   "metadata": {},
   "outputs": [
    {
     "data": {
      "text/plain": [
       "[Document(metadata={'source': 'F:\\\\Complete Generative AI\\\\LANGCHAIN\\\\speech.txt'}, page_content='Hello , I am Ashis Kumar Mishra .\\nI am born and brought up in Odisha .\\nCurrently I am in my pre final year of my Btech from NIT Rourkela .\\nMy habit includes coding , playing football and gaming .')]"
      ]
     },
     "execution_count": 2,
     "metadata": {},
     "output_type": "execute_result"
    }
   ],
   "source": [
    "# with split_documents\n",
    "\n",
    "from langchain_text_splitters import CharacterTextSplitter\n",
    "text_splitter = CharacterTextSplitter( separator='\\n\\n' , chunk_size=10 , chunk_overlap=5 )\n",
    "text_splitter.split_documents(docs)"
   ]
  },
  {
   "cell_type": "markdown",
   "metadata": {},
   "source": [
    "- here the thing is if it unable to find the \\n\\n until the chunk_size it will continue to take .\n",
    "- show Created a chunk of size __ , which is longer than the specified 10 \n"
   ]
  },
  {
   "cell_type": "code",
   "execution_count": 4,
   "metadata": {},
   "outputs": [
    {
     "name": "stdout",
     "output_type": "stream",
     "text": [
      "page_content='Hello , I am Ashis Kumar Mishra .\n",
      "I am born and brought up in Odisha .\n",
      "Currently I am in my pre final year of my Btech from NIT Rourkela .\n",
      "My habit includes coding , playing football and gaming .'\n"
     ]
    }
   ],
   "source": [
    "# with create_documents\n",
    "with open('F:\\Complete Generative AI\\LANGCHAIN\\speech.txt', 'r') as file:\n",
    "    docs = file.read()\n",
    "\n",
    "text_splitter = CharacterTextSplitter( separator='\\n\\n' , chunk_size=10 , chunk_overlap=5 )\n",
    "text = text_splitter.create_documents([docs])\n",
    "print(text[0])"
   ]
  },
  {
   "cell_type": "code",
   "execution_count": null,
   "metadata": {},
   "outputs": [],
   "source": [
    "# The Basic default choice will be Recursive Text Splitter"
   ]
  }
 ],
 "metadata": {
  "kernelspec": {
   "display_name": "Python 3",
   "language": "python",
   "name": "python3"
  },
  "language_info": {
   "codemirror_mode": {
    "name": "ipython",
    "version": 3
   },
   "file_extension": ".py",
   "mimetype": "text/x-python",
   "name": "python",
   "nbconvert_exporter": "python",
   "pygments_lexer": "ipython3",
   "version": "3.10.0"
  }
 },
 "nbformat": 4,
 "nbformat_minor": 2
}
