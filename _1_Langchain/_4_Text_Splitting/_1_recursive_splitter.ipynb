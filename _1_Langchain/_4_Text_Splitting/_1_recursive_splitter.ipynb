{
 "cells": [
  {
   "cell_type": "markdown",
   "metadata": {},
   "source": [
    "### Text Splitter from Documents \n",
    "\n",
    "- How able to convert documents into text chuncks .\n",
    "- Every LLMs models has its own context size , so in order to keep in mind we need to divide the full document into small chcunk size .\n",
    "\n",
    "\n",
    "- This text splitter is the recommended one for generix text . It tries to split on them in order until the chunks are small enough . The default list is (\\n\\n  , \\n  , \" \" , \"\") . This has the effect of trting to keep all the paragraphs together as long as possible ."
   ]
  },
  {
   "cell_type": "code",
   "execution_count": null,
   "metadata": {},
   "outputs": [
    {
     "data": {
      "text/plain": [
       "[Document(metadata={'producer': 'LibreOffice 4.2', 'creator': 'Writer', 'creationdate': '2017-08-16T14:44:13+02:00', 'source': 'F:\\\\Complete Generative AI\\\\LANGCHAIN\\\\pdf.pdf', 'total_pages': 4, 'page': 0, 'page_label': '1'}, page_content='Lorem ipsum \\nLorem ipsum dolor sit amet, consectetur adipiscing \\nelit. Nunc ac faucibus odio. \\nVestibulum neque massa, scelerisque sit amet ligula eu, congue molestie mi. Praesent ut\\nvarius sem. Nullam at porttitor arcu, nec lacinia nisi. Ut ac dolor vitae odio interdum\\ncondimentum.  Vivamus  dapibus  sodales  ex,  vitae  malesuada  ipsum  cursus\\nconvallis. Maecenas sed egestas nulla, ac condimentum orci.  Mauris diam felis,\\nvulputate ac suscipit et, iaculis non est. Curabitur semper arcu ac ligula semper, nec luctus\\nnisl blandit. Integer lacinia ante ac libero lobortis imperdiet. Nullam mollis convallis ipsum,\\nac accumsan nunc vehicula vitae. Nulla eget justo in felis tristique fringilla. Morbi sit amet\\ntortor quis risus auctor condimentum. Morbi in ullamcorper elit. Nulla iaculis tellus sit amet\\nmauris tempus fringilla.\\nMaecenas mauris lectus, lobortis et purus mattis, blandit dictum tellus.\\n\\uf0b7 Maecenas non lorem quis tellus placerat varius. \\n\\uf0b7 Nulla facilisi. \\n\\uf0b7 Aenean congue fringilla justo ut aliquam. \\n\\uf0b7 Mauris id ex erat. Nunc vulputate neque vitae justo facilisis, non condimentum ante\\nsagittis. \\n\\uf0b7 Morbi viverra semper lorem nec molestie. \\n\\uf0b7 Maecenas tincidunt est efficitur ligula euismod, sit amet ornare est vulputate.\\nRow 1 Row 2 Row 3 Row 4\\n0\\n2\\n4\\n6\\n8\\n10\\n12\\nColumn 1\\nColumn 2\\nColumn 3'),\n",
       " Document(metadata={'producer': 'LibreOffice 4.2', 'creator': 'Writer', 'creationdate': '2017-08-16T14:44:13+02:00', 'source': 'F:\\\\Complete Generative AI\\\\LANGCHAIN\\\\pdf.pdf', 'total_pages': 4, 'page': 1, 'page_label': '2'}, page_content='In non mauris justo. Duis vehicula mi vel mi pretium, a viverra erat efficitur. Cras aliquam\\nest ac eros varius, id iaculis dui auctor. Duis pretium neque ligula, et pulvinar mi placerat\\net. Nulla nec nunc sit amet nunc posuere vestibulum. Ut id neque eget tortor mattis\\ntristique. Donec ante est, blandit sit amet tristique vel, lacinia pulvinar arcu. Pellentesque\\nscelerisque fermentum erat, id posuere justo pulvinar ut. Cras id eros sed enim aliquam\\nlobortis. Sed lobortis nisl ut eros efficitur tincidunt. Cras justo mi, porttitor quis mattis vel,\\nultricies ut purus. Ut facilisis et lacus eu cursus.\\nIn eleifend velit vitae libero sollicitudin euismod. Fusce vitae vestibulum velit. Pellentesque\\nvulputate lectus quis pellentesque commodo. Aliquam erat volutpat. Vestibulum in egestas\\nvelit. Pellentesque fermentum nisl vitae fringilla venenatis. Etiam id mauris vitae orci\\nmaximus ultricies. \\nCras fringilla ipsum magna, in fringilla dui commodo \\na.\\nLorem ipsum Lorem ipsum Lorem ipsum\\n1 In eleifend velit vitae libero sollicitudin euismod. Lorem\\n2 Cras fringilla ipsum magna, in fringilla dui commodo\\na.\\nIpsum\\n3 Aliquam erat volutpat. Lorem\\n4 Fusce vitae vestibulum velit. Lorem\\n5 Etiam vehicula luctus fermentum. Ipsum\\nEtiam vehicula luctus fermentum. In vel metus congue, pulvinar lectus vel, fermentum dui.\\nMaecenas ante orci, egestas ut aliquet sit amet, sagittis a magna. Aliquam ante quam,\\npellentesque ut dignissim quis, laoreet eget est. Aliquam erat volutpat. Class aptent taciti\\nsociosqu ad litora torquent per conubia nostra, per inceptos himenaeos. Ut ullamcorper\\njusto sapien, in cursus libero viverra eget. Vivamus auctor imperdiet urna, at pulvinar leo\\nposuere laoreet. Suspendisse neque nisl, fringilla at iaculis scelerisque, ornare vel dolor. Ut\\net  pulvinar  nunc.  Pellentesque  fringilla  mollis  efficitur.  Nullam  venenatis  commodo\\nimperdiet. Morbi velit neque, semper quis lorem quis, efficitur dignissim ipsum. Ut ac lorem\\nsed turpis imperdiet eleifend sit amet id sapien.'),\n",
       " Document(metadata={'producer': 'LibreOffice 4.2', 'creator': 'Writer', 'creationdate': '2017-08-16T14:44:13+02:00', 'source': 'F:\\\\Complete Generative AI\\\\LANGCHAIN\\\\pdf.pdf', 'total_pages': 4, 'page': 2, 'page_label': '3'}, page_content='Lorem ipsum dolor sit amet, consectetur adipiscing \\nelit. \\nNunc ac faucibus odio. Vestibulum neque massa, scelerisque sit amet ligula eu, congue\\nmolestie mi. Praesent ut varius sem. Nullam at porttitor arcu, nec lacinia nisi. Ut ac dolor\\nvitae odio interdum condimentum. Vivamus dapibus sodales ex, vitae malesuada ipsum\\ncursus convallis. Maecenas sed egestas nulla, ac condimentum orci. Mauris diam felis,\\nvulputate ac suscipit et, iaculis non est. Curabitur semper arcu ac ligula semper, nec luctus\\nnisl blandit. Integer lacinia ante ac libero lobortis imperdiet. Nullam mollis convallis ipsum,\\nac accumsan nunc vehicula vitae. Nulla eget justo in felis tristique fringilla. Morbi sit amet\\ntortor quis risus auctor condimentum. Morbi in ullamcorper elit. Nulla iaculis tellus sit amet\\nmauris tempus fringilla.\\nMaecenas mauris lectus, lobortis et purus mattis, blandit \\ndictum tellus. \\nMaecenas non lorem quis tellus placerat varius. Nulla facilisi. Aenean congue fringilla justo\\nut aliquam. Mauris id ex erat. Nunc vulputate neque vitae justo facilisis, non condimentum\\nante sagittis. Morbi viverra semper lorem nec molestie. Maecenas tincidunt est efficitur\\nligula euismod, sit amet ornare est vulputate.\\nIn non mauris justo. Duis vehicula mi vel mi pretium, a viverra erat efficitur. Cras aliquam\\nest ac eros varius, id iaculis dui auctor. Duis pretium neque ligula, et pulvinar mi placerat\\net. Nulla nec nunc sit amet nunc posuere vestibulum. Ut id neque eget tortor mattis\\ntristique. Donec ante est, blandit sit amet tristique vel, lacinia pulvinar arcu. Pellentesque\\nscelerisque fermentum erat, id posuere justo pulvinar ut. Cras id eros sed enim aliquam\\nlobortis. Sed lobortis nisl ut eros efficitur tincidunt. Cras justo mi, porttitor quis mattis vel,\\nultricies ut purus. Ut facilisis et lacus eu cursus.\\nIn eleifend velit vitae libero sollicitudin euismod. \\nFusce vitae vestibulum velit. Pellentesque vulputate lectus quis pellentesque commodo.\\nAliquam  erat volutpat.  Vestibulum  in  egestas  velit. Pellentesque  fermentum nisl  vitae\\nfringilla  venenatis.  Etiam  id  mauris  vitae  orci  maximus  ultricies.  Cras  fringilla  ipsum\\nmagna, in fringilla dui commodo a.\\nEtiam vehicula luctus fermentum. In vel metus congue, pulvinar lectus vel, fermentum dui.\\nMaecenas ante orci, egestas ut aliquet sit amet, sagittis a magna. Aliquam ante quam,\\npellentesque ut dignissim quis, laoreet eget est. Aliquam erat volutpat. Class aptent taciti\\nsociosqu ad litora torquent per conubia nostra, per inceptos himenaeos. Ut ullamcorper\\njusto sapien, in cursus libero viverra eget. Vivamus auctor imperdiet urna, at pulvinar leo\\nposuere laoreet. Suspendisse neque nisl, fringilla at iaculis scelerisque, ornare vel dolor. Ut\\net  pulvinar  nunc.  Pellentesque  fringilla  mollis  efficitur.  Nullam  venenatis  commodo\\nimperdiet. Morbi velit neque, semper quis lorem quis, efficitur dignissim ipsum. Ut ac lorem\\nsed turpis imperdiet eleifend sit amet id sapien.'),\n",
       " Document(metadata={'producer': 'LibreOffice 4.2', 'creator': 'Writer', 'creationdate': '2017-08-16T14:44:13+02:00', 'source': 'F:\\\\Complete Generative AI\\\\LANGCHAIN\\\\pdf.pdf', 'total_pages': 4, 'page': 3, 'page_label': '4'}, page_content='')]"
      ]
     },
     "execution_count": 2,
     "metadata": {},
     "output_type": "execute_result"
    }
   ],
   "source": [
    "# Take the inputs from the pdfs\n",
    "\n",
    "from langchain_community.document_loaders import PyPDFLoader\n",
    "loader = PyPDFLoader('F:\\Complete Generative AI\\LANGCHAIN\\pdf.pdf')\n",
    "docs = loader.load()\n",
    "\n",
    "docs"
   ]
  },
  {
   "cell_type": "code",
   "execution_count": 4,
   "metadata": {},
   "outputs": [
    {
     "data": {
      "text/plain": [
       "list"
      ]
     },
     "execution_count": 4,
     "metadata": {},
     "output_type": "execute_result"
    }
   ],
   "source": [
    "type(docs)"
   ]
  },
  {
   "cell_type": "code",
   "execution_count": 5,
   "metadata": {},
   "outputs": [
    {
     "data": {
      "text/plain": [
       "[Document(metadata={'producer': 'LibreOffice 4.2', 'creator': 'Writer', 'creationdate': '2017-08-16T14:44:13+02:00', 'source': 'F:\\\\Complete Generative AI\\\\LANGCHAIN\\\\pdf.pdf', 'total_pages': 4, 'page': 0, 'page_label': '1'}, page_content='Lorem ipsum \\nLorem ipsum dolor sit amet, consectetur adipiscing \\nelit. Nunc ac faucibus odio. \\nVestibulum neque massa, scelerisque sit amet ligula eu, congue molestie mi. Praesent ut\\nvarius sem. Nullam at porttitor arcu, nec lacinia nisi. Ut ac dolor vitae odio interdum\\ncondimentum.  Vivamus  dapibus  sodales  ex,  vitae  malesuada  ipsum  cursus\\nconvallis. Maecenas sed egestas nulla, ac condimentum orci.  Mauris diam felis,'),\n",
       " Document(metadata={'producer': 'LibreOffice 4.2', 'creator': 'Writer', 'creationdate': '2017-08-16T14:44:13+02:00', 'source': 'F:\\\\Complete Generative AI\\\\LANGCHAIN\\\\pdf.pdf', 'total_pages': 4, 'page': 0, 'page_label': '1'}, page_content='vulputate ac suscipit et, iaculis non est. Curabitur semper arcu ac ligula semper, nec luctus\\nnisl blandit. Integer lacinia ante ac libero lobortis imperdiet. Nullam mollis convallis ipsum,\\nac accumsan nunc vehicula vitae. Nulla eget justo in felis tristique fringilla. Morbi sit amet\\ntortor quis risus auctor condimentum. Morbi in ullamcorper elit. Nulla iaculis tellus sit amet\\nmauris tempus fringilla.\\nMaecenas mauris lectus, lobortis et purus mattis, blandit dictum tellus.'),\n",
       " Document(metadata={'producer': 'LibreOffice 4.2', 'creator': 'Writer', 'creationdate': '2017-08-16T14:44:13+02:00', 'source': 'F:\\\\Complete Generative AI\\\\LANGCHAIN\\\\pdf.pdf', 'total_pages': 4, 'page': 0, 'page_label': '1'}, page_content='\\uf0b7 Maecenas non lorem quis tellus placerat varius. \\n\\uf0b7 Nulla facilisi. \\n\\uf0b7 Aenean congue fringilla justo ut aliquam. \\n\\uf0b7 Mauris id ex erat. Nunc vulputate neque vitae justo facilisis, non condimentum ante\\nsagittis. \\n\\uf0b7 Morbi viverra semper lorem nec molestie. \\n\\uf0b7 Maecenas tincidunt est efficitur ligula euismod, sit amet ornare est vulputate.\\nRow 1 Row 2 Row 3 Row 4\\n0\\n2\\n4\\n6\\n8\\n10\\n12\\nColumn 1\\nColumn 2\\nColumn 3'),\n",
       " Document(metadata={'producer': 'LibreOffice 4.2', 'creator': 'Writer', 'creationdate': '2017-08-16T14:44:13+02:00', 'source': 'F:\\\\Complete Generative AI\\\\LANGCHAIN\\\\pdf.pdf', 'total_pages': 4, 'page': 1, 'page_label': '2'}, page_content='In non mauris justo. Duis vehicula mi vel mi pretium, a viverra erat efficitur. Cras aliquam\\nest ac eros varius, id iaculis dui auctor. Duis pretium neque ligula, et pulvinar mi placerat\\net. Nulla nec nunc sit amet nunc posuere vestibulum. Ut id neque eget tortor mattis\\ntristique. Donec ante est, blandit sit amet tristique vel, lacinia pulvinar arcu. Pellentesque\\nscelerisque fermentum erat, id posuere justo pulvinar ut. Cras id eros sed enim aliquam'),\n",
       " Document(metadata={'producer': 'LibreOffice 4.2', 'creator': 'Writer', 'creationdate': '2017-08-16T14:44:13+02:00', 'source': 'F:\\\\Complete Generative AI\\\\LANGCHAIN\\\\pdf.pdf', 'total_pages': 4, 'page': 1, 'page_label': '2'}, page_content='lobortis. Sed lobortis nisl ut eros efficitur tincidunt. Cras justo mi, porttitor quis mattis vel,\\nultricies ut purus. Ut facilisis et lacus eu cursus.\\nIn eleifend velit vitae libero sollicitudin euismod. Fusce vitae vestibulum velit. Pellentesque\\nvulputate lectus quis pellentesque commodo. Aliquam erat volutpat. Vestibulum in egestas\\nvelit. Pellentesque fermentum nisl vitae fringilla venenatis. Etiam id mauris vitae orci\\nmaximus ultricies. \\nCras fringilla ipsum magna, in fringilla dui commodo'),\n",
       " Document(metadata={'producer': 'LibreOffice 4.2', 'creator': 'Writer', 'creationdate': '2017-08-16T14:44:13+02:00', 'source': 'F:\\\\Complete Generative AI\\\\LANGCHAIN\\\\pdf.pdf', 'total_pages': 4, 'page': 1, 'page_label': '2'}, page_content='a.\\nLorem ipsum Lorem ipsum Lorem ipsum\\n1 In eleifend velit vitae libero sollicitudin euismod. Lorem\\n2 Cras fringilla ipsum magna, in fringilla dui commodo\\na.\\nIpsum\\n3 Aliquam erat volutpat. Lorem\\n4 Fusce vitae vestibulum velit. Lorem\\n5 Etiam vehicula luctus fermentum. Ipsum\\nEtiam vehicula luctus fermentum. In vel metus congue, pulvinar lectus vel, fermentum dui.\\nMaecenas ante orci, egestas ut aliquet sit amet, sagittis a magna. Aliquam ante quam,'),\n",
       " Document(metadata={'producer': 'LibreOffice 4.2', 'creator': 'Writer', 'creationdate': '2017-08-16T14:44:13+02:00', 'source': 'F:\\\\Complete Generative AI\\\\LANGCHAIN\\\\pdf.pdf', 'total_pages': 4, 'page': 1, 'page_label': '2'}, page_content='pellentesque ut dignissim quis, laoreet eget est. Aliquam erat volutpat. Class aptent taciti\\nsociosqu ad litora torquent per conubia nostra, per inceptos himenaeos. Ut ullamcorper\\njusto sapien, in cursus libero viverra eget. Vivamus auctor imperdiet urna, at pulvinar leo\\nposuere laoreet. Suspendisse neque nisl, fringilla at iaculis scelerisque, ornare vel dolor. Ut\\net  pulvinar  nunc.  Pellentesque  fringilla  mollis  efficitur.  Nullam  venenatis  commodo'),\n",
       " Document(metadata={'producer': 'LibreOffice 4.2', 'creator': 'Writer', 'creationdate': '2017-08-16T14:44:13+02:00', 'source': 'F:\\\\Complete Generative AI\\\\LANGCHAIN\\\\pdf.pdf', 'total_pages': 4, 'page': 1, 'page_label': '2'}, page_content='imperdiet. Morbi velit neque, semper quis lorem quis, efficitur dignissim ipsum. Ut ac lorem\\nsed turpis imperdiet eleifend sit amet id sapien.'),\n",
       " Document(metadata={'producer': 'LibreOffice 4.2', 'creator': 'Writer', 'creationdate': '2017-08-16T14:44:13+02:00', 'source': 'F:\\\\Complete Generative AI\\\\LANGCHAIN\\\\pdf.pdf', 'total_pages': 4, 'page': 2, 'page_label': '3'}, page_content='Lorem ipsum dolor sit amet, consectetur adipiscing \\nelit. \\nNunc ac faucibus odio. Vestibulum neque massa, scelerisque sit amet ligula eu, congue\\nmolestie mi. Praesent ut varius sem. Nullam at porttitor arcu, nec lacinia nisi. Ut ac dolor\\nvitae odio interdum condimentum. Vivamus dapibus sodales ex, vitae malesuada ipsum\\ncursus convallis. Maecenas sed egestas nulla, ac condimentum orci. Mauris diam felis,\\nvulputate ac suscipit et, iaculis non est. Curabitur semper arcu ac ligula semper, nec luctus'),\n",
       " Document(metadata={'producer': 'LibreOffice 4.2', 'creator': 'Writer', 'creationdate': '2017-08-16T14:44:13+02:00', 'source': 'F:\\\\Complete Generative AI\\\\LANGCHAIN\\\\pdf.pdf', 'total_pages': 4, 'page': 2, 'page_label': '3'}, page_content='nisl blandit. Integer lacinia ante ac libero lobortis imperdiet. Nullam mollis convallis ipsum,\\nac accumsan nunc vehicula vitae. Nulla eget justo in felis tristique fringilla. Morbi sit amet\\ntortor quis risus auctor condimentum. Morbi in ullamcorper elit. Nulla iaculis tellus sit amet\\nmauris tempus fringilla.\\nMaecenas mauris lectus, lobortis et purus mattis, blandit \\ndictum tellus. \\nMaecenas non lorem quis tellus placerat varius. Nulla facilisi. Aenean congue fringilla justo'),\n",
       " Document(metadata={'producer': 'LibreOffice 4.2', 'creator': 'Writer', 'creationdate': '2017-08-16T14:44:13+02:00', 'source': 'F:\\\\Complete Generative AI\\\\LANGCHAIN\\\\pdf.pdf', 'total_pages': 4, 'page': 2, 'page_label': '3'}, page_content='ut aliquam. Mauris id ex erat. Nunc vulputate neque vitae justo facilisis, non condimentum\\nante sagittis. Morbi viverra semper lorem nec molestie. Maecenas tincidunt est efficitur\\nligula euismod, sit amet ornare est vulputate.\\nIn non mauris justo. Duis vehicula mi vel mi pretium, a viverra erat efficitur. Cras aliquam\\nest ac eros varius, id iaculis dui auctor. Duis pretium neque ligula, et pulvinar mi placerat\\net. Nulla nec nunc sit amet nunc posuere vestibulum. Ut id neque eget tortor mattis'),\n",
       " Document(metadata={'producer': 'LibreOffice 4.2', 'creator': 'Writer', 'creationdate': '2017-08-16T14:44:13+02:00', 'source': 'F:\\\\Complete Generative AI\\\\LANGCHAIN\\\\pdf.pdf', 'total_pages': 4, 'page': 2, 'page_label': '3'}, page_content='tristique. Donec ante est, blandit sit amet tristique vel, lacinia pulvinar arcu. Pellentesque\\nscelerisque fermentum erat, id posuere justo pulvinar ut. Cras id eros sed enim aliquam\\nlobortis. Sed lobortis nisl ut eros efficitur tincidunt. Cras justo mi, porttitor quis mattis vel,\\nultricies ut purus. Ut facilisis et lacus eu cursus.\\nIn eleifend velit vitae libero sollicitudin euismod. \\nFusce vitae vestibulum velit. Pellentesque vulputate lectus quis pellentesque commodo.'),\n",
       " Document(metadata={'producer': 'LibreOffice 4.2', 'creator': 'Writer', 'creationdate': '2017-08-16T14:44:13+02:00', 'source': 'F:\\\\Complete Generative AI\\\\LANGCHAIN\\\\pdf.pdf', 'total_pages': 4, 'page': 2, 'page_label': '3'}, page_content='Aliquam  erat volutpat.  Vestibulum  in  egestas  velit. Pellentesque  fermentum nisl  vitae\\nfringilla  venenatis.  Etiam  id  mauris  vitae  orci  maximus  ultricies.  Cras  fringilla  ipsum\\nmagna, in fringilla dui commodo a.\\nEtiam vehicula luctus fermentum. In vel metus congue, pulvinar lectus vel, fermentum dui.\\nMaecenas ante orci, egestas ut aliquet sit amet, sagittis a magna. Aliquam ante quam,\\npellentesque ut dignissim quis, laoreet eget est. Aliquam erat volutpat. Class aptent taciti'),\n",
       " Document(metadata={'producer': 'LibreOffice 4.2', 'creator': 'Writer', 'creationdate': '2017-08-16T14:44:13+02:00', 'source': 'F:\\\\Complete Generative AI\\\\LANGCHAIN\\\\pdf.pdf', 'total_pages': 4, 'page': 2, 'page_label': '3'}, page_content='sociosqu ad litora torquent per conubia nostra, per inceptos himenaeos. Ut ullamcorper\\njusto sapien, in cursus libero viverra eget. Vivamus auctor imperdiet urna, at pulvinar leo\\nposuere laoreet. Suspendisse neque nisl, fringilla at iaculis scelerisque, ornare vel dolor. Ut\\net  pulvinar  nunc.  Pellentesque  fringilla  mollis  efficitur.  Nullam  venenatis  commodo\\nimperdiet. Morbi velit neque, semper quis lorem quis, efficitur dignissim ipsum. Ut ac lorem'),\n",
       " Document(metadata={'producer': 'LibreOffice 4.2', 'creator': 'Writer', 'creationdate': '2017-08-16T14:44:13+02:00', 'source': 'F:\\\\Complete Generative AI\\\\LANGCHAIN\\\\pdf.pdf', 'total_pages': 4, 'page': 2, 'page_label': '3'}, page_content='sed turpis imperdiet eleifend sit amet id sapien.')]"
      ]
     },
     "execution_count": 5,
     "metadata": {},
     "output_type": "execute_result"
    }
   ],
   "source": [
    "# Now converting the documents of the pdf into texts\n",
    "# How to recursively split texts\n",
    "\n",
    "from langchain_text_splitters import RecursiveCharacterTextSplitter\n",
    "text_splitter = RecursiveCharacterTextSplitter(\n",
    "    \n",
    "    chunk_size=500,\n",
    "    chunk_overlap=50\n",
    ")\n",
    "\n",
    "final_documents = text_splitter.split_documents(docs)     # also option as create_documents\n",
    "final_documents "
   ]
  },
  {
   "cell_type": "code",
   "execution_count": 9,
   "metadata": {},
   "outputs": [
    {
     "name": "stdout",
     "output_type": "stream",
     "text": [
      "page_content='Lorem ipsum \n",
      "Lorem ipsum dolor sit amet, consectetur adipiscing \n",
      "elit. Nunc ac faucibus odio. \n",
      "Vestibulum neque massa, scelerisque sit amet ligula eu, congue molestie mi. Praesent ut\n",
      "varius sem. Nullam at porttitor arcu, nec lacinia nisi. Ut ac dolor vitae odio interdum\n",
      "condimentum.  Vivamus  dapibus  sodales  ex,  vitae  malesuada  ipsum  cursus\n",
      "convallis. Maecenas sed egestas nulla, ac condimentum orci.  Mauris diam felis,' metadata={'producer': 'LibreOffice 4.2', 'creator': 'Writer', 'creationdate': '2017-08-16T14:44:13+02:00', 'source': 'F:\\\\Complete Generative AI\\\\LANGCHAIN\\\\pdf.pdf', 'total_pages': 4, 'page': 0, 'page_label': '1'}\n",
      "page_content='vulputate ac suscipit et, iaculis non est. Curabitur semper arcu ac ligula semper, nec luctus\n",
      "nisl blandit. Integer lacinia ante ac libero lobortis imperdiet. Nullam mollis convallis ipsum,\n",
      "ac accumsan nunc vehicula vitae. Nulla eget justo in felis tristique fringilla. Morbi sit amet\n",
      "tortor quis risus auctor condimentum. Morbi in ullamcorper elit. Nulla iaculis tellus sit amet\n",
      "mauris tempus fringilla.\n",
      "Maecenas mauris lectus, lobortis et purus mattis, blandit dictum tellus.' metadata={'producer': 'LibreOffice 4.2', 'creator': 'Writer', 'creationdate': '2017-08-16T14:44:13+02:00', 'source': 'F:\\\\Complete Generative AI\\\\LANGCHAIN\\\\pdf.pdf', 'total_pages': 4, 'page': 0, 'page_label': '1'}\n"
     ]
    }
   ],
   "source": [
    "print(final_documents[0])\n",
    "print(final_documents[1])"
   ]
  },
  {
   "cell_type": "markdown",
   "metadata": {},
   "source": [
    "- you can see in the second document there is a overlap from the first document , i.e. the work of chunk_overlap .\n",
    "- each document is of chunk_size i.e. 500 "
   ]
  },
  {
   "cell_type": "code",
   "execution_count": null,
   "metadata": {},
   "outputs": [
    {
     "data": {
      "text/plain": [
       "[Document(metadata={'source': 'F:\\\\Complete Generative AI\\\\LANGCHAIN\\\\speech.txt'}, page_content='Hello , I am Ashis Kumar Mishra .\\nI am born and brought up in Odisha .\\nCurrently I am in my pre final year of my Btech from NIT Rourkela .\\nMy habit includes coding , playing football and gaming .\\n\\n')]"
      ]
     },
     "execution_count": 10,
     "metadata": {},
     "output_type": "execute_result"
    }
   ],
   "source": [
    "# Now reading the speech text\n",
    "\n",
    "from langchain_community.document_loaders import TextLoader\n",
    "\n",
    "loader = TextLoader('F:\\Complete Generative AI\\LANGCHAIN\\speech.txt')\n",
    "docs = loader.load()\n",
    "docs    # by default the return type is document"
   ]
  },
  {
   "cell_type": "code",
   "execution_count": 19,
   "metadata": {},
   "outputs": [
    {
     "data": {
      "text/plain": [
       "'Hello , I am Ashis Kumar Mishra .\\nI am born and brought up in Odisha .\\nCurrently I am in my pre final year of my Btech from NIT Rourkela .\\nMy habit includes coding , playing football and gaming .\\n\\n'"
      ]
     },
     "execution_count": 19,
     "metadata": {},
     "output_type": "execute_result"
    }
   ],
   "source": [
    "# If want to read it in another way\n",
    "speech_text=\"\"\n",
    "with open('F:\\Complete Generative AI\\LANGCHAIN\\speech.txt') as file:\n",
    "    speech_text = file.read()\n",
    "\n",
    "speech_text\n",
    "   "
   ]
  },
  {
   "cell_type": "code",
   "execution_count": 20,
   "metadata": {},
   "outputs": [
    {
     "data": {
      "text/plain": [
       "str"
      ]
     },
     "execution_count": 20,
     "metadata": {},
     "output_type": "execute_result"
    }
   ],
   "source": [
    "type(speech_text)"
   ]
  },
  {
   "cell_type": "code",
   "execution_count": 15,
   "metadata": {},
   "outputs": [],
   "source": [
    "text_splitter = RecursiveCharacterTextSplitter(\n",
    "    chunk_size=20,\n",
    "    chunk_overlap=5\n",
    ")"
   ]
  },
  {
   "cell_type": "code",
   "execution_count": 24,
   "metadata": {},
   "outputs": [
    {
     "name": "stdout",
     "output_type": "stream",
     "text": [
      "page_content='Kumar Mishra .'\n",
      "page_content='Hello , I am Ashis'\n"
     ]
    }
   ],
   "source": [
    "final_documents = text_splitter.create_documents([speech_text])     # also option as create_documents\n",
    "print(final_documents[1])\n",
    "print(final_documents[0])"
   ]
  },
  {
   "cell_type": "code",
   "execution_count": null,
   "metadata": {},
   "outputs": [],
   "source": []
  }
 ],
 "metadata": {
  "kernelspec": {
   "display_name": "Python 3",
   "language": "python",
   "name": "python3"
  },
  "language_info": {
   "codemirror_mode": {
    "name": "ipython",
    "version": 3
   },
   "file_extension": ".py",
   "mimetype": "text/x-python",
   "name": "python",
   "nbconvert_exporter": "python",
   "pygments_lexer": "ipython3",
   "version": "3.10.0"
  }
 },
 "nbformat": 4,
 "nbformat_minor": 2
}
