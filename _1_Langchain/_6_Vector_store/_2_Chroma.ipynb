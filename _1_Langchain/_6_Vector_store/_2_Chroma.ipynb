{
 "cells": [
  {
   "cell_type": "markdown",
   "metadata": {},
   "source": [
    "### Chroma \n",
    "\n",
    "- Chroma is a AI - native open source vector database focused on developer productivity and happiness ."
   ]
  },
  {
   "cell_type": "code",
   "execution_count": 1,
   "metadata": {},
   "outputs": [],
   "source": [
    "# Building a sample vectordb\n",
    "\n",
    "from langchain_chroma import Chroma\n",
    "from langchain_text_splitters import RecursiveCharacterTextSplitter\n",
    "from langchain_community.document_loaders import TextLoader\n",
    "from langchain_community.embeddings import OllamaEmbeddings"
   ]
  },
  {
   "cell_type": "code",
   "execution_count": 2,
   "metadata": {},
   "outputs": [
    {
     "data": {
      "text/plain": [
       "[Document(metadata={'source': 'F:\\\\Complete Generative AI\\\\LANGCHAIN\\\\speech.txt'}, page_content='Hello , My name is  Ashis Kumar Mishra .\\n\\nI am born and brought up in Odisha .\\n\\nCurrently I am in my pre final year of my Btech from NIT Rourkela .\\n\\nMy habit includes coding , playing football and gaming .\\n\\nFlight Pattern is a one-act contemporary ballet performed in 30 minutes.\\n\\n[1] The music inspired the structure of the choreography, with a long and slow crescendo that transitions to a single voice. \\n\\nCrystal Pite, the choreographer of this piece, mimicked this structure in the creative process.\\n\\nShe focused first on the large scale of the crisis, then on a singular story. \\n\\nPite felt that an emotional connection with a single story would be more impactful to the audience than many dancers on stage.\\n\\nThe piece begins with 36 dancers arranged in three equal rows, standing in profile to the audience and staring at a light while rocking in packed rows.\\n\\nThe dancers then move in canon, their spines extending and rotating to cause their heads to look back, then forward in a bow.\\n')]"
      ]
     },
     "execution_count": 2,
     "metadata": {},
     "output_type": "execute_result"
    }
   ],
   "source": [
    "loader = TextLoader(\"F:\\Complete Generative AI\\LANGCHAIN\\speech.txt\")\n",
    "data = loader.load()\n",
    "data"
   ]
  },
  {
   "cell_type": "code",
   "execution_count": null,
   "metadata": {},
   "outputs": [],
   "source": [
    "# splitting the data\n",
    "text_splitter = RecursiveCharacterTextSplitter( chunk_size=100 , chunk_overlap=20 )\n",
    "splits = text_splitter.split_documents(data)"
   ]
  },
  {
   "cell_type": "code",
   "execution_count": 6,
   "metadata": {},
   "outputs": [
    {
     "data": {
      "text/plain": [
       "<langchain_chroma.vectorstores.Chroma at 0x1ba824ccbb0>"
      ]
     },
     "execution_count": 6,
     "metadata": {},
     "output_type": "execute_result"
    }
   ],
   "source": [
    "# Vector db and embeddings \n",
    "\n",
    "embedding = OllamaEmbeddings(model = \"gemma:2b\" )\n",
    "vectordb = Chroma.from_documents(documents=splits, embedding=embedding)\n",
    "vectordb"
   ]
  },
  {
   "cell_type": "code",
   "execution_count": 7,
   "metadata": {},
   "outputs": [
    {
     "data": {
      "text/plain": [
       "'She focused first on the large scale of the crisis, then on a singular story.'"
      ]
     },
     "execution_count": 7,
     "metadata": {},
     "output_type": "execute_result"
    }
   ],
   "source": [
    "## Now quering \n",
    "\n",
    "query = \" What is the name ? \"\n",
    "cs = vectordb.similarity_search(query)\n",
    "\n",
    "cs[0].page_content"
   ]
  },
  {
   "cell_type": "code",
   "execution_count": 10,
   "metadata": {},
   "outputs": [],
   "source": [
    "# saving into local  by persist directory  , no save or save_local available\n",
    "vectordb = Chroma.from_documents(documents=splits , embedding=embedding , persist_directory=\"F:\\Complete Generative AI\\LANGCHAIN\\_1_Langchain\\_6_Vector_store\\_6_Vector_chroma_db\")\n"
   ]
  },
  {
   "cell_type": "code",
   "execution_count": 11,
   "metadata": {},
   "outputs": [
    {
     "data": {
      "text/plain": [
       "'She focused first on the large scale of the crisis, then on a singular story.'"
      ]
     },
     "execution_count": 11,
     "metadata": {},
     "output_type": "execute_result"
    }
   ],
   "source": [
    "# load from disk\n",
    "db2 = Chroma(persist_directory=\"F:\\Complete Generative AI\\LANGCHAIN\\_1_Langchain\\_6_Vector_store\\_6_Vector_chroma_db\" ,\n",
    "             embedding_function=embedding)\n",
    "\n",
    "docs = db2.similarity_search(query)\n",
    "docs[0].page_content"
   ]
  },
  {
   "cell_type": "code",
   "execution_count": 13,
   "metadata": {},
   "outputs": [
    {
     "data": {
      "text/plain": [
       "[(Document(id='db21ff7f-bbe2-484f-8b8b-46b078d6c278', metadata={'source': 'F:\\\\Complete Generative AI\\\\LANGCHAIN\\\\speech.txt'}, page_content='She focused first on the large scale of the crisis, then on a singular story.'),\n",
       "  3793.6706360723247),\n",
       " (Document(id='79ec100c-b253-48f1-af07-feb47bc1def8', metadata={'source': 'F:\\\\Complete Generative AI\\\\LANGCHAIN\\\\speech.txt'}, page_content='to the audience than many dancers on stage.'),\n",
       "  3895.299862736715),\n",
       " (Document(id='069ff70a-843b-4f5c-ac45-554ed906ad40', metadata={'source': 'F:\\\\Complete Generative AI\\\\LANGCHAIN\\\\speech.txt'}, page_content='to the audience and staring at a light while rocking in packed rows.'),\n",
       "  3906.984936337337),\n",
       " (Document(id='97e2050f-19ba-4071-9420-b0c47044396d', metadata={'source': 'F:\\\\Complete Generative AI\\\\LANGCHAIN\\\\speech.txt'}, page_content='slow crescendo that transitions to a single voice.'),\n",
       "  3909.1418448452846)]"
      ]
     },
     "execution_count": 13,
     "metadata": {},
     "output_type": "execute_result"
    }
   ],
   "source": [
    "# to get the score\n",
    "docs = vectordb.similarity_search_with_score(query)\n",
    "docs\n"
   ]
  },
  {
   "cell_type": "code",
   "execution_count": null,
   "metadata": {},
   "outputs": [
    {
     "data": {
      "text/plain": [
       "'She focused first on the large scale of the crisis, then on a singular story.'"
      ]
     },
     "execution_count": 15,
     "metadata": {},
     "output_type": "execute_result"
    }
   ],
   "source": [
    "# Retriever Option\n",
    "\n",
    "retriever = vectordb.as_retriever()\n",
    "retriever.invoke(query)[0].page_content"
   ]
  },
  {
   "cell_type": "code",
   "execution_count": null,
   "metadata": {},
   "outputs": [],
   "source": []
  }
 ],
 "metadata": {
  "kernelspec": {
   "display_name": "Python 3",
   "language": "python",
   "name": "python3"
  },
  "language_info": {
   "codemirror_mode": {
    "name": "ipython",
    "version": 3
   },
   "file_extension": ".py",
   "mimetype": "text/x-python",
   "name": "python",
   "nbconvert_exporter": "python",
   "pygments_lexer": "ipython3",
   "version": "3.10.0"
  }
 },
 "nbformat": 4,
 "nbformat_minor": 2
}
