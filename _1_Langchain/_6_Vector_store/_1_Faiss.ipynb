{
 "cells": [
  {
   "cell_type": "markdown",
   "metadata": {},
   "source": [
    "## Faiss\n",
    "\n",
    "- Facebook AI Similarity Search (Faiss) is a library for efficient similarity serach and clustering of dense vectors , It contains algorithms that search in sets of vectors of any size , upto ones that possibly do not fit in RAM . It also contains supporting code for evaluation and parameter tuning ."
   ]
  },
  {
   "cell_type": "code",
   "execution_count": 17,
   "metadata": {},
   "outputs": [
    {
     "name": "stderr",
     "output_type": "stream",
     "text": [
      "Created a chunk of size 125, which is longer than the specified 100\n",
      "Created a chunk of size 126, which is longer than the specified 100\n",
      "Created a chunk of size 151, which is longer than the specified 100\n"
     ]
    }
   ],
   "source": [
    "from langchain_community.document_loaders import TextLoader\n",
    "from langchain_community.vectorstores import FAISS \n",
    "from langchain_community.embeddings import OllamaEmbeddings\n",
    "from langchain_text_splitters import CharacterTextSplitter\n",
    "\n",
    "\n",
    "loader = TextLoader(\"F:\\Complete Generative AI\\LANGCHAIN\\speech.txt\")\n",
    "documents = loader.load()\n",
    "text_splitter = CharacterTextSplitter( chunk_size=100 , chunk_overlap=20)\n",
    "docs = text_splitter.split_documents(documents) "
   ]
  },
  {
   "cell_type": "code",
   "execution_count": 18,
   "metadata": {},
   "outputs": [
    {
     "data": {
      "text/plain": [
       "[Document(metadata={'source': 'F:\\\\Complete Generative AI\\\\LANGCHAIN\\\\speech.txt'}, page_content='Hello , My name is  Ashis Kumar Mishra .\\n\\nI am born and brought up in Odisha .'),\n",
       " Document(metadata={'source': 'F:\\\\Complete Generative AI\\\\LANGCHAIN\\\\speech.txt'}, page_content='Currently I am in my pre final year of my Btech from NIT Rourkela .'),\n",
       " Document(metadata={'source': 'F:\\\\Complete Generative AI\\\\LANGCHAIN\\\\speech.txt'}, page_content='My habit includes coding , playing football and gaming .'),\n",
       " Document(metadata={'source': 'F:\\\\Complete Generative AI\\\\LANGCHAIN\\\\speech.txt'}, page_content='Flight Pattern is a one-act contemporary ballet performed in 30 minutes.'),\n",
       " Document(metadata={'source': 'F:\\\\Complete Generative AI\\\\LANGCHAIN\\\\speech.txt'}, page_content='[1] The music inspired the structure of the choreography, with a long and slow crescendo that transitions to a single voice.'),\n",
       " Document(metadata={'source': 'F:\\\\Complete Generative AI\\\\LANGCHAIN\\\\speech.txt'}, page_content='Crystal Pite, the choreographer of this piece, mimicked this structure in the creative process.'),\n",
       " Document(metadata={'source': 'F:\\\\Complete Generative AI\\\\LANGCHAIN\\\\speech.txt'}, page_content='She focused first on the large scale of the crisis, then on a singular story.'),\n",
       " Document(metadata={'source': 'F:\\\\Complete Generative AI\\\\LANGCHAIN\\\\speech.txt'}, page_content='Pite felt that an emotional connection with a single story would be more impactful to the audience than many dancers on stage.'),\n",
       " Document(metadata={'source': 'F:\\\\Complete Generative AI\\\\LANGCHAIN\\\\speech.txt'}, page_content='The piece begins with 36 dancers arranged in three equal rows, standing in profile to the audience and staring at a light while rocking in packed rows.'),\n",
       " Document(metadata={'source': 'F:\\\\Complete Generative AI\\\\LANGCHAIN\\\\speech.txt'}, page_content='The dancers then move in canon, their spines extending and rotating to cause their heads to look back, then forward in a bow.')]"
      ]
     },
     "execution_count": 18,
     "metadata": {},
     "output_type": "execute_result"
    }
   ],
   "source": [
    "docs"
   ]
  },
  {
   "cell_type": "code",
   "execution_count": 19,
   "metadata": {},
   "outputs": [
    {
     "data": {
      "text/plain": [
       "<langchain_community.vectorstores.faiss.FAISS at 0x1884e5bb970>"
      ]
     },
     "execution_count": 19,
     "metadata": {},
     "output_type": "execute_result"
    }
   ],
   "source": [
    "embeddings = OllamaEmbeddings(model = \"gemma:2b\" )\n",
    "db = FAISS.from_documents(docs , embeddings)\n",
    "db "
   ]
  },
  {
   "cell_type": "code",
   "execution_count": 20,
   "metadata": {},
   "outputs": [],
   "source": [
    "### Take the db and start quering \n",
    "\n",
    "query = \"What is the name of the user ?\"\n",
    "docs = db.similarity_search(query)"
   ]
  },
  {
   "cell_type": "code",
   "execution_count": 21,
   "metadata": {},
   "outputs": [
    {
     "data": {
      "text/plain": [
       "[Document(id='181ab7a1-ce52-461a-b870-95a99fc626fe', metadata={'source': 'F:\\\\Complete Generative AI\\\\LANGCHAIN\\\\speech.txt'}, page_content='My habit includes coding , playing football and gaming .'),\n",
       " Document(id='628f4349-2eda-4fdc-9f1c-56f55fbefce2', metadata={'source': 'F:\\\\Complete Generative AI\\\\LANGCHAIN\\\\speech.txt'}, page_content='[1] The music inspired the structure of the choreography, with a long and slow crescendo that transitions to a single voice.'),\n",
       " Document(id='970e71b2-1483-4f62-831c-3b9180cd933f', metadata={'source': 'F:\\\\Complete Generative AI\\\\LANGCHAIN\\\\speech.txt'}, page_content='Pite felt that an emotional connection with a single story would be more impactful to the audience than many dancers on stage.'),\n",
       " Document(id='892a9303-31cd-45b9-9175-2fc2d4d31045', metadata={'source': 'F:\\\\Complete Generative AI\\\\LANGCHAIN\\\\speech.txt'}, page_content='The piece begins with 36 dancers arranged in three equal rows, standing in profile to the audience and staring at a light while rocking in packed rows.')]"
      ]
     },
     "execution_count": 21,
     "metadata": {},
     "output_type": "execute_result"
    }
   ],
   "source": [
    "docs"
   ]
  },
  {
   "cell_type": "code",
   "execution_count": 25,
   "metadata": {},
   "outputs": [
    {
     "data": {
      "text/plain": [
       "'My habit includes coding , playing football and gaming .'"
      ]
     },
     "execution_count": 25,
     "metadata": {},
     "output_type": "execute_result"
    }
   ],
   "source": [
    "# showing the first response\n",
    "docs[0].page_content"
   ]
  },
  {
   "cell_type": "markdown",
   "metadata": {},
   "source": [
    "##### Another way of quering is to do the retrieving it .\n",
    "\n",
    "- We can also convert the vectorstore into a Retriever class . This allows us to easily use it in other Langchain methods , which largely work with retrievers .\n",
    "\n",
    "- It acts like an interface whenever there is a query to the db , it will response ones it convert the db to retreive class ."
   ]
  },
  {
   "cell_type": "code",
   "execution_count": 29,
   "metadata": {},
   "outputs": [
    {
     "data": {
      "text/plain": [
       "'My habit includes coding , playing football and gaming .'"
      ]
     },
     "execution_count": 29,
     "metadata": {},
     "output_type": "execute_result"
    }
   ],
   "source": [
    "# to convert the db to retriver\n",
    "retriever = db.as_retriever()\n",
    "docs = retriever.invoke(query)\n",
    "docs[0].page_content"
   ]
  },
  {
   "cell_type": "markdown",
   "metadata": {},
   "source": [
    "##### Similarity Search with Score \n",
    "\n",
    "- Allows to return not only the document but also the distance score of the query to them .\n",
    "- The returned score is L2 score (manhattan dist).\n",
    "- Low score is better ."
   ]
  },
  {
   "cell_type": "code",
   "execution_count": 30,
   "metadata": {},
   "outputs": [
    {
     "data": {
      "text/plain": [
       "[(Document(id='181ab7a1-ce52-461a-b870-95a99fc626fe', metadata={'source': 'F:\\\\Complete Generative AI\\\\LANGCHAIN\\\\speech.txt'}, page_content='My habit includes coding , playing football and gaming .'),\n",
       "  3144.0464),\n",
       " (Document(id='628f4349-2eda-4fdc-9f1c-56f55fbefce2', metadata={'source': 'F:\\\\Complete Generative AI\\\\LANGCHAIN\\\\speech.txt'}, page_content='[1] The music inspired the structure of the choreography, with a long and slow crescendo that transitions to a single voice.'),\n",
       "  3154.206),\n",
       " (Document(id='970e71b2-1483-4f62-831c-3b9180cd933f', metadata={'source': 'F:\\\\Complete Generative AI\\\\LANGCHAIN\\\\speech.txt'}, page_content='Pite felt that an emotional connection with a single story would be more impactful to the audience than many dancers on stage.'),\n",
       "  3289.5798),\n",
       " (Document(id='892a9303-31cd-45b9-9175-2fc2d4d31045', metadata={'source': 'F:\\\\Complete Generative AI\\\\LANGCHAIN\\\\speech.txt'}, page_content='The piece begins with 36 dancers arranged in three equal rows, standing in profile to the audience and staring at a light while rocking in packed rows.'),\n",
       "  3350.9553)]"
      ]
     },
     "execution_count": 30,
     "metadata": {},
     "output_type": "execute_result"
    }
   ],
   "source": [
    "docs_and_score = db.similarity_search_with_score(query)\n",
    "docs_and_score"
   ]
  },
  {
   "cell_type": "markdown",
   "metadata": {},
   "source": [
    "##### Saving into local"
   ]
  },
  {
   "cell_type": "code",
   "execution_count": 32,
   "metadata": {},
   "outputs": [],
   "source": [
    "db.save_local(\"F:\\Complete Generative AI\\LANGCHAIN\\_1_Langchain\\_6_Vector_store\\_6_Vector_storefaiss_db\")"
   ]
  },
  {
   "cell_type": "code",
   "execution_count": null,
   "metadata": {},
   "outputs": [],
   "source": [
    "# How to load\n",
    "\n",
    "\n",
    "# use allow_dangerous_deserialization = True    -> since pickle file is opening \n",
    "new_df = FAISS.load_local(\"F:\\Complete Generative AI\\LANGCHAIN\\_1_Langchain\\_6_Vector_store\\_6_Vector_storefaiss_db\" , embeddings , allow_dangerous_deserialization=True)\n",
    "docs = new_df.similarity_search(query)"
   ]
  },
  {
   "cell_type": "code",
   "execution_count": 35,
   "metadata": {},
   "outputs": [
    {
     "data": {
      "text/plain": [
       "[Document(id='181ab7a1-ce52-461a-b870-95a99fc626fe', metadata={'source': 'F:\\\\Complete Generative AI\\\\LANGCHAIN\\\\speech.txt'}, page_content='My habit includes coding , playing football and gaming .'),\n",
       " Document(id='628f4349-2eda-4fdc-9f1c-56f55fbefce2', metadata={'source': 'F:\\\\Complete Generative AI\\\\LANGCHAIN\\\\speech.txt'}, page_content='[1] The music inspired the structure of the choreography, with a long and slow crescendo that transitions to a single voice.'),\n",
       " Document(id='970e71b2-1483-4f62-831c-3b9180cd933f', metadata={'source': 'F:\\\\Complete Generative AI\\\\LANGCHAIN\\\\speech.txt'}, page_content='Pite felt that an emotional connection with a single story would be more impactful to the audience than many dancers on stage.'),\n",
       " Document(id='892a9303-31cd-45b9-9175-2fc2d4d31045', metadata={'source': 'F:\\\\Complete Generative AI\\\\LANGCHAIN\\\\speech.txt'}, page_content='The piece begins with 36 dancers arranged in three equal rows, standing in profile to the audience and staring at a light while rocking in packed rows.')]"
      ]
     },
     "execution_count": 35,
     "metadata": {},
     "output_type": "execute_result"
    }
   ],
   "source": [
    "docs"
   ]
  },
  {
   "cell_type": "code",
   "execution_count": 36,
   "metadata": {},
   "outputs": [
    {
     "data": {
      "text/plain": [
       "'My habit includes coding , playing football and gaming .'"
      ]
     },
     "execution_count": 36,
     "metadata": {},
     "output_type": "execute_result"
    }
   ],
   "source": [
    "docs[0].page_content"
   ]
  },
  {
   "cell_type": "code",
   "execution_count": null,
   "metadata": {},
   "outputs": [],
   "source": []
  }
 ],
 "metadata": {
  "kernelspec": {
   "display_name": "Python 3",
   "language": "python",
   "name": "python3"
  },
  "language_info": {
   "codemirror_mode": {
    "name": "ipython",
    "version": 3
   },
   "file_extension": ".py",
   "mimetype": "text/x-python",
   "name": "python",
   "nbconvert_exporter": "python",
   "pygments_lexer": "ipython3",
   "version": "3.10.0"
  }
 },
 "nbformat": 4,
 "nbformat_minor": 2
}
