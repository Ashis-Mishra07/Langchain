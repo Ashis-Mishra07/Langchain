{
 "cells": [
  {
   "cell_type": "markdown",
   "metadata": {},
   "source": [
    "#### Getting Started with Langchain and OpenAI\n",
    "\n",
    "In this quickstart we'll see how to:\n",
    "\n",
    "- Get setup with Langchain , Langsmith  and Langserve\n",
    "- Use the most basic and common components of Langchain : prompt templates , models and output parsers .\n",
    "- Build a simple application with Langchain\n",
    "- Trace your application with Langsmith\n",
    "- Serve your application with Langserve"
   ]
  },
  {
   "cell_type": "code",
   "execution_count": null,
   "metadata": {},
   "outputs": [],
   "source": []
  }
 ],
 "metadata": {
  "kernelspec": {
   "display_name": "Python 3",
   "language": "python",
   "name": "python3"
  },
  "language_info": {
   "name": "python",
   "version": "3.10.0"
  }
 },
 "nbformat": 4,
 "nbformat_minor": 2
}
