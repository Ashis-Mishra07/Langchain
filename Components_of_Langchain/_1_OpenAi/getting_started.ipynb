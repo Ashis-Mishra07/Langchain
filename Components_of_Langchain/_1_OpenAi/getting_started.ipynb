{
 "cells": [
  {
   "cell_type": "markdown",
   "metadata": {},
   "source": [
    "### Getting started to Langchain\n",
    "\n",
    "- Get setup with langchain , langsmith and langserve\n",
    "- use the most basic and common components of langchain: prompt templates , models and output parser .\n",
    "- build a simple application with langchain \n",
    "- trace the application with langsmith\n",
    "- serve the application with langserve"
   ]
  },
  {
   "cell_type": "code",
   "execution_count": 5,
   "metadata": {},
   "outputs": [],
   "source": [
    "# export all the env variables \n",
    "\n",
    "import os \n",
    "from dotenv import load_dotenv\n",
    "load_dotenv()\n",
    "\n",
    "\n",
    "os.environ['OPENAI_API_KEY'] = os.getenv('OPENAI_API_KEY')\n",
    "\n",
    "# For Langsmith Tracking\n",
    "os.environ['LANGCHAIN_API_KEY'] = os.getenv('LANGCHAIN_API_KEY')\n",
    "os.environ[\"LANGCHAIN_TRACING_V2\"] = \"true\"\n",
    "os.environ['LANGCHAIN_PROJECT'] = os.getenv('LANGCHAIN_PROJECT')"
   ]
  },
  {
   "cell_type": "code",
   "execution_count": 6,
   "metadata": {},
   "outputs": [
    {
     "name": "stdout",
     "output_type": "stream",
     "text": [
      "client=<openai.resources.chat.completions.completions.Completions object at 0x00000237FB0884C0> async_client=<openai.resources.chat.completions.completions.AsyncCompletions object at 0x00000237FB08ADA0> root_client=<openai.OpenAI object at 0x00000237FCB0EF80> root_async_client=<openai.AsyncOpenAI object at 0x00000237FB088520> model_name='gpt-4o' model_kwargs={} openai_api_key=SecretStr('**********')\n"
     ]
    }
   ],
   "source": [
    "from langchain_openai import ChatOpenAI\n",
    "# how to call the model -> GPT4.0\n",
    "llm = ChatOpenAI(model = \"gpt-4o\")\n",
    "print(llm)\n"
   ]
  },
  {
   "cell_type": "code",
   "execution_count": null,
   "metadata": {},
   "outputs": [],
   "source": [
    "# Input and get resp from the model\n",
    "query = \"What is the capital of India?\"\n",
    "llm.invoke(query)\n",
    "\n",
    "\n",
    "# The above will give u the result "
   ]
  },
  {
   "cell_type": "code",
   "execution_count": 8,
   "metadata": {},
   "outputs": [
    {
     "data": {
      "text/plain": [
       "ChatPromptTemplate(input_variables=['input'], input_types={}, partial_variables={}, messages=[SystemMessagePromptTemplate(prompt=PromptTemplate(input_variables=[], input_types={}, partial_variables={}, template=' You are an expert AI Engineer . Provide me answers based on the question .'), additional_kwargs={}), HumanMessagePromptTemplate(prompt=PromptTemplate(input_variables=['input'], input_types={}, partial_variables={}, template='{input}'), additional_kwargs={})])"
      ]
     },
     "execution_count": 8,
     "metadata": {},
     "output_type": "execute_result"
    }
   ],
   "source": [
    "# Chat Prompt Template\n",
    "# What kind of role u want to give to ypu LLM Model means for example act like a software engi. and suggest me how to do it\n",
    "\n",
    "from langchain_core.prompts import ChatPromptTemplate \n",
    "\n",
    "prompt = ChatPromptTemplate(\n",
    "    [\n",
    "        (\"system\" , \" You are an expert AI Engineer . Provide me answers based on the question .\") ,\n",
    "        (\"user\" , \"{input}\")\n",
    "    ]\n",
    ")\n",
    "\n",
    "# The system is the LLM Model\n",
    "\n",
    "prompt"
   ]
  },
  {
   "cell_type": "code",
   "execution_count": null,
   "metadata": {},
   "outputs": [],
   "source": [
    "chain = prompt|llm   # It connects the output of prompt to the input of llm.\n",
    "result = chain.invoke({ \"input\" : \"What is the capital of India?\"})\n",
    "print(result)"
   ]
  },
  {
   "cell_type": "code",
   "execution_count": null,
   "metadata": {},
   "outputs": [],
   "source": [
    "type(result) # langchain_core.messages.ai.AIMessage , not in format needs formatting via parser "
   ]
  },
  {
   "cell_type": "code",
   "execution_count": null,
   "metadata": {},
   "outputs": [],
   "source": [
    "# Parser - > getting resp from the LLM and how u want to display it \n",
    "\n",
    "## stroutput Parser\n",
    "from langchain_core.output_parsers import StrOutputParser\n",
    "output_parser = StrOutputParser()\n",
    "\n",
    "chain = prompt|llm|output_parser\n",
    "\n",
    "result = chain.invoke({ \"input\" : \"What is the capital of India?\"})\n",
    "print(result)\n",
    "\n",
    "\n",
    "# This will directly give u the content ."
   ]
  }
 ],
 "metadata": {
  "kernelspec": {
   "display_name": "Python 3",
   "language": "python",
   "name": "python3"
  },
  "language_info": {
   "codemirror_mode": {
    "name": "ipython",
    "version": 3
   },
   "file_extension": ".py",
   "mimetype": "text/x-python",
   "name": "python",
   "nbconvert_exporter": "python",
   "pygments_lexer": "ipython3",
   "version": "3.10.0"
  }
 },
 "nbformat": 4,
 "nbformat_minor": 2
}
