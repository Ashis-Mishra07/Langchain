{
 "cells": [
  {
   "cell_type": "markdown",
   "metadata": {},
   "source": [
    "#### Simple GenAi App using Langchain"
   ]
  },
  {
   "cell_type": "code",
   "execution_count": null,
   "metadata": {},
   "outputs": [],
   "source": [
    "### Load Data -> Docs -> Divide into Chunks -> Convert into vectors -> embeddings -> store "
   ]
  },
  {
   "cell_type": "code",
   "execution_count": 1,
   "metadata": {},
   "outputs": [],
   "source": [
    "# export all the env variables \n",
    "\n",
    "import os \n",
    "from dotenv import load_dotenv\n",
    "load_dotenv()\n",
    "\n",
    "\n",
    "os.environ['OPENAI_API_KEY'] = os.getenv('OPENAI_API_KEY')\n",
    "\n",
    "# For Langsmith Tracking\n",
    "os.environ['LANGCHAIN_API_KEY'] = os.getenv('LANGCHAIN_API_KEY')\n",
    "os.environ[\"LANGCHAIN_TRACING_V2\"] = \"true\"\n",
    "os.environ['LANGCHAIN_PROJECT'] = os.getenv('LANGCHAIN_PROJECT')"
   ]
  },
  {
   "cell_type": "code",
   "execution_count": 4,
   "metadata": {},
   "outputs": [
    {
     "data": {
      "text/plain": [
       "<langchain_community.document_loaders.web_base.WebBaseLoader at 0x1997e9b74c0>"
      ]
     },
     "execution_count": 4,
     "metadata": {},
     "output_type": "execute_result"
    }
   ],
   "source": [
    "# to retreive any data from the website we need to read the entire website \n",
    "# bs4 for web scraping\n",
    "\n",
    "## Data Ingestion -> from the website scrap the data\n",
    "\n",
    "from langchain_community.document_loaders import WebBaseLoader\n",
    "import bs4\n",
    "loader = WebBaseLoader(web_path=('https://docs.smith.langchain.com/self_hosting/architectural_overview'))\n",
    "loader"
   ]
  },
  {
   "cell_type": "code",
   "execution_count": 5,
   "metadata": {},
   "outputs": [
    {
     "data": {
      "text/plain": [
       "[Document(metadata={'source': 'https://docs.smith.langchain.com/self_hosting/architectural_overview', 'title': 'Architectural overview | 🦜️🛠️ LangSmith', 'description': 'Self-Hosted LangSmith is an add-on to the Enterprise Plan designed for our largest, most security-conscious customers. See our pricing page for more detail, and contact us at sales@langchain.dev if you want to get a license key to trial LangSmith in your environment.', 'language': 'en'}, page_content='\\n\\n\\n\\n\\nArchitectural overview | 🦜️🛠️ LangSmith\\n\\n\\n\\n\\n\\n\\nSkip to main contentJoin us at  Interrupt: The Agent AI Conference by LangChain on May 13 & 14 in San Francisco!API ReferenceRESTPythonJS/TSSearchRegionUSEUGo to AppGet StartedObservabilityEvaluationPrompt EngineeringDeployment (LangGraph Platform)AdministrationSelf-hostingArchitectural overviewScriptsInstallationConfigurationUsageUpgradesEgress for Subscription Metrics and Operational MetadataOrganization ChartsRelease notes (self-hosted)Frequently asked questionsLangSmith-managed ClickHouseTroubleshootingPricingReferenceCloud architecture and scalabilityAuthz and AuthnAuthentication methodsdata_formatsEvaluationDataset transformationsRegions FAQsdk_referenceSelf-hostingArchitectural overviewOn this pageArchitectural overview\\nEnterprise License RequiredSelf-Hosted LangSmith is an add-on to the Enterprise Plan designed for our largest, most security-conscious customers. See our pricing page for more detail, and contact us at sales@langchain.dev if you want to get a license key to trial LangSmith in your environment.\\nLangSmith can be run via Kubernetes (recommended) or Docker in a Cloud environment that you control.\\nThe LangSmith application consists of several components including 5 LangSmith servers and 3 stateful services:\\n\\nLangSmith Frontend\\nLangSmith Backend\\nLangSmith Platform Backend\\nLangSmith Playground\\nLangSmith Queue\\nLangSmith ACE(Arbitrary Code Execution) Backend\\nClickHouse\\nPostgres\\nRedis\\n\\n\\nTo access the LangSmith UI and send API requests, you will need to expose the LangSmith Frontend service. Depending on your installation method, this can be a load balancer or a port exposed on the host machine.\\nStorage Services\\u200b\\nnoteLangSmith Self-Hosted will bundle all storage services by default. LangSmith can be configured to use external versions of all storage services.\\nIn a production setting, we strongly recommend using external Storage Services.\\nClickHouse\\u200b\\nClickHouse is a high-performance, column-oriented SQL database management system (DBMS) for online analytical processing (OLAP).\\nLangSmith uses ClickHouse as the primary data store for traces and feedback (high-volume data).\\nPostgreSQL\\u200b\\nPostgreSQL is a powerful, open source object-relational database system that uses and extends the SQL language combined with many features that safely store and scale the most complicated data workloads\\nLangSmith uses Postgres as the primary data store for transactional workloads and operational data (almost everything besides traces and feedback).\\nRedis\\u200b\\nRedis is a powerful in-memory key-value database that persists on disk. By holding data in memory, Redis offers high performance for operations like caching.\\nLangSmith uses Redis to back queuing/caching operations.\\nServices\\u200b\\nLangSmith Frontend\\u200b\\nThe frontend uses Nginx to serve the LangSmith UI and route API requests to the other servers. This serves as the entrypoint for the application and is the only component that must be exposed to users.\\nLangSmith Backend\\u200b\\nThe backend is the primary entrypoint for API requests and handles the majority of the business logic for the application. This includes handling requests from the frontend and sdk, preparing traces for ingestion, and supporting the hub API.\\nLangSmith Queue\\u200b\\nThe queue handles incoming traces and feedback to ensure that they are ingested and persisted into the traces and feedback datastore asynchronously, handling checks for data integrity and ensuring successful insert into the datastore, handling retries in situations such as database errors or the temporary inability to connect to the database.\\nLangSmith Platform Backend\\u200b\\nThe platform backend is an internal service that primarily handles authentication and other high-volume tasks. The user should not need to interact with this service directly.\\nLangSmith Playground\\u200b\\nThe playground is a service that handles forwarding requests to various LLM APIs to support the LangSmith Playground feature. This can also be used to connect to your own custom model servers.\\nLangSmith ACE(Arbitrary Code Execution) Backend\\u200b\\nThe ACE backend is a service that handles executing arbitrary code in a secure environment. This is used to support running custom code within LangSmith.Was this page helpful?You can leave detailed feedback on GitHub.PreviousSelf-hostingNextScriptsStorage ServicesClickHousePostgreSQLRedisServicesLangSmith FrontendLangSmith BackendLangSmith QueueLangSmith Platform BackendLangSmith PlaygroundLangSmith ACE(Arbitrary Code Execution) BackendCommunityDiscordTwitterGitHubDocs CodeLangSmith SDKPythonJS/TSMoreHomepageBlogLangChain Python DocsLangChain JS/TS DocsCopyright © 2025 LangChain, Inc.\\n\\n')]"
      ]
     },
     "execution_count": 5,
     "metadata": {},
     "output_type": "execute_result"
    }
   ],
   "source": [
    "docs = loader.load()\n",
    "docs"
   ]
  },
  {
   "cell_type": "code",
   "execution_count": 12,
   "metadata": {},
   "outputs": [
    {
     "data": {
      "text/plain": [
       "[Document(metadata={'source': 'https://docs.smith.langchain.com/self_hosting/architectural_overview', 'title': 'Architectural overview | 🦜️🛠️ LangSmith', 'description': 'Self-Hosted LangSmith is an add-on to the Enterprise Plan designed for our largest, most security-conscious customers. See our pricing page for more detail, and contact us at sales@langchain.dev if you want to get a license key to trial LangSmith in your environment.', 'language': 'en'}, page_content='Architectural overview | 🦜️🛠️ LangSmith'),\n",
       " Document(metadata={'source': 'https://docs.smith.langchain.com/self_hosting/architectural_overview', 'title': 'Architectural overview | 🦜️🛠️ LangSmith', 'description': 'Self-Hosted LangSmith is an add-on to the Enterprise Plan designed for our largest, most security-conscious customers. See our pricing page for more detail, and contact us at sales@langchain.dev if you want to get a license key to trial LangSmith in your environment.', 'language': 'en'}, page_content='Skip to main contentJoin us at  Interrupt: The Agent AI Conference by LangChain on May 13 & 14 in San Francisco!API ReferenceRESTPythonJS/TSSearchRegionUSEUGo to AppGet StartedObservabilityEvaluationPrompt EngineeringDeployment (LangGraph Platform)AdministrationSelf-hostingArchitectural'),\n",
       " Document(metadata={'source': 'https://docs.smith.langchain.com/self_hosting/architectural_overview', 'title': 'Architectural overview | 🦜️🛠️ LangSmith', 'description': 'Self-Hosted LangSmith is an add-on to the Enterprise Plan designed for our largest, most security-conscious customers. See our pricing page for more detail, and contact us at sales@langchain.dev if you want to get a license key to trial LangSmith in your environment.', 'language': 'en'}, page_content='overviewScriptsInstallationConfigurationUsageUpgradesEgress for Subscription Metrics and Operational MetadataOrganization ChartsRelease notes (self-hosted)Frequently asked questionsLangSmith-managed ClickHouseTroubleshootingPricingReferenceCloud architecture and scalabilityAuthz and'),\n",
       " Document(metadata={'source': 'https://docs.smith.langchain.com/self_hosting/architectural_overview', 'title': 'Architectural overview | 🦜️🛠️ LangSmith', 'description': 'Self-Hosted LangSmith is an add-on to the Enterprise Plan designed for our largest, most security-conscious customers. See our pricing page for more detail, and contact us at sales@langchain.dev if you want to get a license key to trial LangSmith in your environment.', 'language': 'en'}, page_content='and AuthnAuthentication methodsdata_formatsEvaluationDataset transformationsRegions FAQsdk_referenceSelf-hostingArchitectural overviewOn this pageArchitectural overview'),\n",
       " Document(metadata={'source': 'https://docs.smith.langchain.com/self_hosting/architectural_overview', 'title': 'Architectural overview | 🦜️🛠️ LangSmith', 'description': 'Self-Hosted LangSmith is an add-on to the Enterprise Plan designed for our largest, most security-conscious customers. See our pricing page for more detail, and contact us at sales@langchain.dev if you want to get a license key to trial LangSmith in your environment.', 'language': 'en'}, page_content='Enterprise License RequiredSelf-Hosted LangSmith is an add-on to the Enterprise Plan designed for our largest, most security-conscious customers. See our pricing page for more detail, and contact us at sales@langchain.dev if you want to get a license key to trial LangSmith in your environment.'),\n",
       " Document(metadata={'source': 'https://docs.smith.langchain.com/self_hosting/architectural_overview', 'title': 'Architectural overview | 🦜️🛠️ LangSmith', 'description': 'Self-Hosted LangSmith is an add-on to the Enterprise Plan designed for our largest, most security-conscious customers. See our pricing page for more detail, and contact us at sales@langchain.dev if you want to get a license key to trial LangSmith in your environment.', 'language': 'en'}, page_content='LangSmith can be run via Kubernetes (recommended) or Docker in a Cloud environment that you control.\\nThe LangSmith application consists of several components including 5 LangSmith servers and 3 stateful services:'),\n",
       " Document(metadata={'source': 'https://docs.smith.langchain.com/self_hosting/architectural_overview', 'title': 'Architectural overview | 🦜️🛠️ LangSmith', 'description': 'Self-Hosted LangSmith is an add-on to the Enterprise Plan designed for our largest, most security-conscious customers. See our pricing page for more detail, and contact us at sales@langchain.dev if you want to get a license key to trial LangSmith in your environment.', 'language': 'en'}, page_content='LangSmith Frontend\\nLangSmith Backend\\nLangSmith Platform Backend\\nLangSmith Playground\\nLangSmith Queue\\nLangSmith ACE(Arbitrary Code Execution) Backend\\nClickHouse\\nPostgres\\nRedis'),\n",
       " Document(metadata={'source': 'https://docs.smith.langchain.com/self_hosting/architectural_overview', 'title': 'Architectural overview | 🦜️🛠️ LangSmith', 'description': 'Self-Hosted LangSmith is an add-on to the Enterprise Plan designed for our largest, most security-conscious customers. See our pricing page for more detail, and contact us at sales@langchain.dev if you want to get a license key to trial LangSmith in your environment.', 'language': 'en'}, page_content='To access the LangSmith UI and send API requests, you will need to expose the LangSmith Frontend service. Depending on your installation method, this can be a load balancer or a port exposed on the host machine.\\nStorage Services\\u200b'),\n",
       " Document(metadata={'source': 'https://docs.smith.langchain.com/self_hosting/architectural_overview', 'title': 'Architectural overview | 🦜️🛠️ LangSmith', 'description': 'Self-Hosted LangSmith is an add-on to the Enterprise Plan designed for our largest, most security-conscious customers. See our pricing page for more detail, and contact us at sales@langchain.dev if you want to get a license key to trial LangSmith in your environment.', 'language': 'en'}, page_content='Storage Services\\u200b\\nnoteLangSmith Self-Hosted will bundle all storage services by default. LangSmith can be configured to use external versions of all storage services.\\nIn a production setting, we strongly recommend using external Storage Services.\\nClickHouse\\u200b'),\n",
       " Document(metadata={'source': 'https://docs.smith.langchain.com/self_hosting/architectural_overview', 'title': 'Architectural overview | 🦜️🛠️ LangSmith', 'description': 'Self-Hosted LangSmith is an add-on to the Enterprise Plan designed for our largest, most security-conscious customers. See our pricing page for more detail, and contact us at sales@langchain.dev if you want to get a license key to trial LangSmith in your environment.', 'language': 'en'}, page_content='ClickHouse\\u200b\\nClickHouse is a high-performance, column-oriented SQL database management system (DBMS) for online analytical processing (OLAP).\\nLangSmith uses ClickHouse as the primary data store for traces and feedback (high-volume data).\\nPostgreSQL\\u200b'),\n",
       " Document(metadata={'source': 'https://docs.smith.langchain.com/self_hosting/architectural_overview', 'title': 'Architectural overview | 🦜️🛠️ LangSmith', 'description': 'Self-Hosted LangSmith is an add-on to the Enterprise Plan designed for our largest, most security-conscious customers. See our pricing page for more detail, and contact us at sales@langchain.dev if you want to get a license key to trial LangSmith in your environment.', 'language': 'en'}, page_content='PostgreSQL\\u200b\\nPostgreSQL is a powerful, open source object-relational database system that uses and extends the SQL language combined with many features that safely store and scale the most complicated data workloads'),\n",
       " Document(metadata={'source': 'https://docs.smith.langchain.com/self_hosting/architectural_overview', 'title': 'Architectural overview | 🦜️🛠️ LangSmith', 'description': 'Self-Hosted LangSmith is an add-on to the Enterprise Plan designed for our largest, most security-conscious customers. See our pricing page for more detail, and contact us at sales@langchain.dev if you want to get a license key to trial LangSmith in your environment.', 'language': 'en'}, page_content='LangSmith uses Postgres as the primary data store for transactional workloads and operational data (almost everything besides traces and feedback).\\nRedis\\u200b'),\n",
       " Document(metadata={'source': 'https://docs.smith.langchain.com/self_hosting/architectural_overview', 'title': 'Architectural overview | 🦜️🛠️ LangSmith', 'description': 'Self-Hosted LangSmith is an add-on to the Enterprise Plan designed for our largest, most security-conscious customers. See our pricing page for more detail, and contact us at sales@langchain.dev if you want to get a license key to trial LangSmith in your environment.', 'language': 'en'}, page_content='Redis\\u200b\\nRedis is a powerful in-memory key-value database that persists on disk. By holding data in memory, Redis offers high performance for operations like caching.\\nLangSmith uses Redis to back queuing/caching operations.\\nServices\\u200b\\nLangSmith Frontend\\u200b'),\n",
       " Document(metadata={'source': 'https://docs.smith.langchain.com/self_hosting/architectural_overview', 'title': 'Architectural overview | 🦜️🛠️ LangSmith', 'description': 'Self-Hosted LangSmith is an add-on to the Enterprise Plan designed for our largest, most security-conscious customers. See our pricing page for more detail, and contact us at sales@langchain.dev if you want to get a license key to trial LangSmith in your environment.', 'language': 'en'}, page_content='LangSmith Frontend\\u200b\\nThe frontend uses Nginx to serve the LangSmith UI and route API requests to the other servers. This serves as the entrypoint for the application and is the only component that must be exposed to users.\\nLangSmith Backend\\u200b'),\n",
       " Document(metadata={'source': 'https://docs.smith.langchain.com/self_hosting/architectural_overview', 'title': 'Architectural overview | 🦜️🛠️ LangSmith', 'description': 'Self-Hosted LangSmith is an add-on to the Enterprise Plan designed for our largest, most security-conscious customers. See our pricing page for more detail, and contact us at sales@langchain.dev if you want to get a license key to trial LangSmith in your environment.', 'language': 'en'}, page_content='LangSmith Backend\\u200b\\nThe backend is the primary entrypoint for API requests and handles the majority of the business logic for the application. This includes handling requests from the frontend and sdk, preparing traces for ingestion, and supporting the hub API.\\nLangSmith Queue\\u200b'),\n",
       " Document(metadata={'source': 'https://docs.smith.langchain.com/self_hosting/architectural_overview', 'title': 'Architectural overview | 🦜️🛠️ LangSmith', 'description': 'Self-Hosted LangSmith is an add-on to the Enterprise Plan designed for our largest, most security-conscious customers. See our pricing page for more detail, and contact us at sales@langchain.dev if you want to get a license key to trial LangSmith in your environment.', 'language': 'en'}, page_content='The queue handles incoming traces and feedback to ensure that they are ingested and persisted into the traces and feedback datastore asynchronously, handling checks for data integrity and ensuring successful insert into the datastore, handling retries in situations such as database errors or the'),\n",
       " Document(metadata={'source': 'https://docs.smith.langchain.com/self_hosting/architectural_overview', 'title': 'Architectural overview | 🦜️🛠️ LangSmith', 'description': 'Self-Hosted LangSmith is an add-on to the Enterprise Plan designed for our largest, most security-conscious customers. See our pricing page for more detail, and contact us at sales@langchain.dev if you want to get a license key to trial LangSmith in your environment.', 'language': 'en'}, page_content='errors or the temporary inability to connect to the database.'),\n",
       " Document(metadata={'source': 'https://docs.smith.langchain.com/self_hosting/architectural_overview', 'title': 'Architectural overview | 🦜️🛠️ LangSmith', 'description': 'Self-Hosted LangSmith is an add-on to the Enterprise Plan designed for our largest, most security-conscious customers. See our pricing page for more detail, and contact us at sales@langchain.dev if you want to get a license key to trial LangSmith in your environment.', 'language': 'en'}, page_content='LangSmith Platform Backend\\u200b\\nThe platform backend is an internal service that primarily handles authentication and other high-volume tasks. The user should not need to interact with this service directly.\\nLangSmith Playground\\u200b'),\n",
       " Document(metadata={'source': 'https://docs.smith.langchain.com/self_hosting/architectural_overview', 'title': 'Architectural overview | 🦜️🛠️ LangSmith', 'description': 'Self-Hosted LangSmith is an add-on to the Enterprise Plan designed for our largest, most security-conscious customers. See our pricing page for more detail, and contact us at sales@langchain.dev if you want to get a license key to trial LangSmith in your environment.', 'language': 'en'}, page_content='The playground is a service that handles forwarding requests to various LLM APIs to support the LangSmith Playground feature. This can also be used to connect to your own custom model servers.\\nLangSmith ACE(Arbitrary Code Execution) Backend\\u200b'),\n",
       " Document(metadata={'source': 'https://docs.smith.langchain.com/self_hosting/architectural_overview', 'title': 'Architectural overview | 🦜️🛠️ LangSmith', 'description': 'Self-Hosted LangSmith is an add-on to the Enterprise Plan designed for our largest, most security-conscious customers. See our pricing page for more detail, and contact us at sales@langchain.dev if you want to get a license key to trial LangSmith in your environment.', 'language': 'en'}, page_content='The ACE backend is a service that handles executing arbitrary code in a secure environment. This is used to support running custom code within LangSmith.Was this page helpful?You can leave detailed feedback on GitHub.PreviousSelf-hostingNextScriptsStorage'),\n",
       " Document(metadata={'source': 'https://docs.smith.langchain.com/self_hosting/architectural_overview', 'title': 'Architectural overview | 🦜️🛠️ LangSmith', 'description': 'Self-Hosted LangSmith is an add-on to the Enterprise Plan designed for our largest, most security-conscious customers. See our pricing page for more detail, and contact us at sales@langchain.dev if you want to get a license key to trial LangSmith in your environment.', 'language': 'en'}, page_content='ServicesClickHousePostgreSQLRedisServicesLangSmith FrontendLangSmith BackendLangSmith QueueLangSmith Platform BackendLangSmith PlaygroundLangSmith ACE(Arbitrary Code Execution) BackendCommunityDiscordTwitterGitHubDocs CodeLangSmith SDKPythonJS/TSMoreHomepageBlogLangChain Python DocsLangChain JS/TS'),\n",
       " Document(metadata={'source': 'https://docs.smith.langchain.com/self_hosting/architectural_overview', 'title': 'Architectural overview | 🦜️🛠️ LangSmith', 'description': 'Self-Hosted LangSmith is an add-on to the Enterprise Plan designed for our largest, most security-conscious customers. See our pricing page for more detail, and contact us at sales@langchain.dev if you want to get a license key to trial LangSmith in your environment.', 'language': 'en'}, page_content='DocsLangChain JS/TS DocsCopyright © 2025 LangChain, Inc.')]"
      ]
     },
     "execution_count": 12,
     "metadata": {},
     "output_type": "execute_result"
    }
   ],
   "source": [
    "from langchain_text_splitters import RecursiveCharacterTextSplitter\n",
    "\n",
    "text_splitter = RecursiveCharacterTextSplitter( chunk_size=300 , chunk_overlap=20 )\n",
    "documents = text_splitter.split_documents(docs)\n",
    "documents"
   ]
  },
  {
   "cell_type": "code",
   "execution_count": 13,
   "metadata": {},
   "outputs": [],
   "source": [
    "# converting into embeddings\n",
    "from langchain_openai import OpenAIEmbeddings\n",
    "embeddings = OpenAIEmbeddings()\n"
   ]
  },
  {
   "cell_type": "code",
   "execution_count": null,
   "metadata": {},
   "outputs": [],
   "source": [
    "from langchain_community.vectorstores import FAISS\n",
    "vector_store = FAISS.from_documents(documents , embeddings)"
   ]
  },
  {
   "cell_type": "code",
   "execution_count": null,
   "metadata": {},
   "outputs": [],
   "source": [
    "vector_store    # show u <langchain_community.vectorstores.FAISS at 0x7f7f3c1b3b50>"
   ]
  },
  {
   "cell_type": "code",
   "execution_count": null,
   "metadata": {},
   "outputs": [],
   "source": [
    "## Query from vector store db\n",
    "\n",
    "query = \"The LangSmith application consists of several components including 5 LangSmith servers and 3 stateful services\"\n",
    "result = vector_store.similarity_search(query)\n",
    "result[0].page_content"
   ]
  },
  {
   "cell_type": "code",
   "execution_count": null,
   "metadata": {},
   "outputs": [],
   "source": [
    "from langchain_openai import ChatOpenAI\n",
    "llm = ChatOpenAI(model = \"gpt-4o\")"
   ]
  },
  {
   "cell_type": "code",
   "execution_count": null,
   "metadata": {},
   "outputs": [],
   "source": [
    "## If we want some meaningful query and we will provide context to the query then use RETRIEVAL CHAIN\n",
    "\n",
    "from langchain.chains.combine_documents import create_stuff_documents_chain\n",
    "from langchain_core.prompts import ChatPromptTemplate\n",
    "prompt = ChatPromptTemplate.from_template(\n",
    "    ''' \n",
    "        Answer the following question based on the provided context:\n",
    "        <context>\n",
    "        {context}\n",
    "        </context\n",
    "    '''\n",
    ")\n",
    "\n",
    "documents_chain = create_stuff_documents_chain(llm, prompt)\n",
    "documents_chain      # ChatPromptTemplate -> ChatOpenAI -> StrOutputParser\n"
   ]
  },
  {
   "cell_type": "code",
   "execution_count": null,
   "metadata": {},
   "outputs": [],
   "source": [
    "from langchain_core.documents import Document\n",
    "\n",
    "documents_chain.invoke({\n",
    "    \"input\":\"The LangSmith application consists of several components including 5 LangSmith servers and 3 stateful services\" ,\n",
    "    \"context\":[Document(page_content=\"rrnkrrcorcnr3cn3\")]\n",
    "})"
   ]
  },
  {
   "cell_type": "code",
   "execution_count": null,
   "metadata": {},
   "outputs": [],
   "source": [
    "# Retriever \n",
    "''' \n",
    "The data is stored in vectorstoredb . Retriever acts as an interface that get the data from vectorstoredb and get the resp alternately \n",
    "from it .\n",
    "\n",
    "\n",
    "Input ---> Retriever ---> VectorStoreDB ---> Response\n",
    "\n",
    "'''\n",
    "\n",
    "retriever = vector_store.as_retriever()    # <langchain_core.retrievers.VectorStoreDBRetriever at 0x7f7f3c1b3b50>"
   ]
  },
  {
   "cell_type": "code",
   "execution_count": null,
   "metadata": {},
   "outputs": [],
   "source": [
    "\n",
    "from langchain.chains import create_retrieval_chain\n",
    "retrieval_chain = create_retrieval_chain(retriever , documents_chain)"
   ]
  },
  {
   "cell_type": "code",
   "execution_count": null,
   "metadata": {},
   "outputs": [],
   "source": [
    "## get the resp \n",
    "resp = retrieval_chain.invoke({\n",
    "    \"input\":\"The LangSmith application consists of several components including 5 LangSmith servers and 3 stateful services\"\n",
    "})\n",
    "\n",
    "resp['answer']"
   ]
  }
 ],
 "metadata": {
  "kernelspec": {
   "display_name": "Python 3",
   "language": "python",
   "name": "python3"
  },
  "language_info": {
   "codemirror_mode": {
    "name": "ipython",
    "version": 3
   },
   "file_extension": ".py",
   "mimetype": "text/x-python",
   "name": "python",
   "nbconvert_exporter": "python",
   "pygments_lexer": "ipython3",
   "version": "3.10.0"
  }
 },
 "nbformat": 4,
 "nbformat_minor": 2
}
